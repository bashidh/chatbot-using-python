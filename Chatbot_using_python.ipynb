{
  "nbformat": 4,
  "nbformat_minor": 0,
  "metadata": {
    "colab": {
      "name": "Chatbot using python.ipynb",
      "provenance": [],
      "collapsed_sections": [],
      "authorship_tag": "ABX9TyPS3P+cqxdyOMmR/8tO48RI",
      "include_colab_link": true
    },
    "kernelspec": {
      "name": "python3",
      "display_name": "Python 3"
    },
    "language_info": {
      "name": "python"
    }
  },
  "cells": [
    {
      "cell_type": "markdown",
      "metadata": {
        "id": "view-in-github",
        "colab_type": "text"
      },
      "source": [
        "<a href=\"https://colab.research.google.com/github/bashidh/chatbot-using-python/blob/main/Chatbot_using_python.ipynb\" target=\"_parent\"><img src=\"https://colab.research.google.com/assets/colab-badge.svg\" alt=\"Open In Colab\"/></a>"
      ]
    },
    {
      "cell_type": "markdown",
      "metadata": {
        "id": "CWuYtVcgiBI6"
      },
      "source": [
        "##Ai chatbot implementation"
      ]
    },
    {
      "cell_type": "code",
      "metadata": {
        "colab": {
          "base_uri": "https://localhost:8080/"
        },
        "id": "u0Kh9CUqh_5z",
        "outputId": "e4f110cd-02c5-4eca-ebfe-c602170b9030"
      },
      "source": [
        "pip install chatterbot  #inbuilt library build on ml with conversational dialog flow "
      ],
      "execution_count": 5,
      "outputs": [
        {
          "output_type": "stream",
          "text": [
            "Requirement already satisfied: chatterbot in /usr/local/lib/python3.7/dist-packages (1.0.8)\n",
            "Requirement already satisfied: python-dateutil<2.9,>=2.8 in /usr/local/lib/python3.7/dist-packages (from chatterbot) (2.8.1)\n",
            "Requirement already satisfied: pytz in /usr/local/lib/python3.7/dist-packages (from chatterbot) (2018.9)\n",
            "Requirement already satisfied: sqlalchemy<1.4,>=1.3 in /usr/local/lib/python3.7/dist-packages (from chatterbot) (1.3.24)\n",
            "Requirement already satisfied: mathparse<0.2,>=0.1 in /usr/local/lib/python3.7/dist-packages (from chatterbot) (0.1.2)\n",
            "Requirement already satisfied: six>=1.5 in /usr/local/lib/python3.7/dist-packages (from python-dateutil<2.9,>=2.8->chatterbot) (1.15.0)\n"
          ],
          "name": "stdout"
        }
      ]
    },
    {
      "cell_type": "code",
      "metadata": {
        "colab": {
          "base_uri": "https://localhost:8080/"
        },
        "id": "2b5l8I34irHh",
        "outputId": "90fed4aa-7672-4771-adc2-1099fff4a79c"
      },
      "source": [
        "pip install chatterbot_corpus #user contributed dialog used to train the bots to communicate"
      ],
      "execution_count": 3,
      "outputs": [
        {
          "output_type": "stream",
          "text": [
            "Collecting chatterbot_corpus\n",
            "  Downloading chatterbot_corpus-1.2.0-py2.py3-none-any.whl (117 kB)\n",
            "\u001b[?25l\r\u001b[K     |██▉                             | 10 kB 25.4 MB/s eta 0:00:01\r\u001b[K     |█████▋                          | 20 kB 29.1 MB/s eta 0:00:01\r\u001b[K     |████████▍                       | 30 kB 19.2 MB/s eta 0:00:01\r\u001b[K     |███████████▏                    | 40 kB 16.0 MB/s eta 0:00:01\r\u001b[K     |██████████████                  | 51 kB 7.2 MB/s eta 0:00:01\r\u001b[K     |████████████████▊               | 61 kB 8.4 MB/s eta 0:00:01\r\u001b[K     |███████████████████▋            | 71 kB 8.0 MB/s eta 0:00:01\r\u001b[K     |██████████████████████▍         | 81 kB 9.0 MB/s eta 0:00:01\r\u001b[K     |█████████████████████████▏      | 92 kB 9.2 MB/s eta 0:00:01\r\u001b[K     |████████████████████████████    | 102 kB 7.1 MB/s eta 0:00:01\r\u001b[K     |██████████████████████████████▊ | 112 kB 7.1 MB/s eta 0:00:01\r\u001b[K     |████████████████████████████████| 117 kB 7.1 MB/s \n",
            "\u001b[?25hRequirement already satisfied: PyYAML<4.0,>=3.12 in /usr/local/lib/python3.7/dist-packages (from chatterbot_corpus) (3.13)\n",
            "Installing collected packages: chatterbot-corpus\n",
            "Successfully installed chatterbot-corpus-1.2.0\n"
          ],
          "name": "stdout"
        }
      ]
    },
    {
      "cell_type": "code",
      "metadata": {
        "id": "WLjTDrcklowb"
      },
      "source": [
        "#function to create bot\n",
        "def create_bot(name):\n",
        "  from chatterbot import ChatBot\n",
        "  Bot=ChatBot(name=name,read_only=False,                                 #read_only false-bot gets user input    \n",
        "              logic_adapters=[\"chatterbot.logic.BestMatch\"],             #logic_adapters-choose bestmatched logic and  give response to the user ip\n",
        "              storage_adapters=[\"chatterbot.storage.SQlStorageAdapter\"]) #storage_adapter-interface used to connect the bot to different storage technologies\n",
        "  return Bot\n",
        "\n",
        "\n",
        "#function to train lists\n",
        "def custom_train(Bot,conversation):\n",
        "  from chatterbot.trainers import ListTrainer     #lists the training datas\n",
        "  trainer=ListTrainer(Bot)                        \n",
        "  trainer.train(conversation)                      #train()use to train conversations in list\n",
        "\n",
        "#function to train variety of topics\n",
        "def train_all_data(Bot):\n",
        "  from chatterbot.trainers import ChatterBotCorpusTrainer    #train our bot with some data trainer\n",
        "  corpus_trainer=ChatterBotCorpusTrainer(Bot)\n",
        "  corpus_trainer.train(\"chatterbot.corpus.english\")         #train in english lanuage,we can choose other  languages also\n",
        "\n",
        "#function to start bot\n",
        "def start_bot(Bot):\n",
        "  print(\"Hi there!,i'm Ab.How can i help you?\")\n",
        "  bye_list=[\"bye ab\",\"bye\",\"ok see you tommorow\",\"good bye\"]     #training list\n",
        "\n",
        "  while(True):\n",
        "    user_input=input(\"me: \")\n",
        "    if user_input in bye_list:\n",
        "     # print(\"\\033c\")\n",
        "      print(\"Ab: Ok bye! see you, have a nice day\")\n",
        "      break\n",
        "   \n",
        "\n",
        "    response=Bot.get_response(user_input)                     #passing user_input and get response from bot\n",
        "    print(\"Ab: \",response)"
      ],
      "execution_count": 4,
      "outputs": []
    },
    {
      "cell_type": "code",
      "metadata": {
        "colab": {
          "base_uri": "https://localhost:8080/"
        },
        "id": "bNBp5rbawJhd",
        "outputId": "a3cdb830-c751-4ca6-ea3a-dbc08e43c61d"
      },
      "source": [
        "pip install function"
      ],
      "execution_count": 2,
      "outputs": [
        {
          "output_type": "stream",
          "text": [
            "Requirement already satisfied: function in /usr/local/lib/python3.7/dist-packages (1.2.0)\n"
          ],
          "name": "stdout"
        }
      ]
    },
    {
      "cell_type": "code",
      "metadata": {
        "id": "w0xg38jNyJ97"
      },
      "source": [
        ""
      ],
      "execution_count": null,
      "outputs": []
    },
    {
      "cell_type": "code",
      "metadata": {
        "id": "F7fS1rO4wQ0O",
        "colab": {
          "base_uri": "https://localhost:8080/"
        },
        "outputId": "998d0145-3351-4207-9fec-358a925e885d"
      },
      "source": [
        "#create bot \n",
        "bot=create_bot(\"Ab\")\n",
        "\n",
        "creater=[\"who is your creater?\",\"M.Abdul Bashidh\"]\n",
        "food=[\"what is  fav food\",\"your fav food is  briyani\"]\n",
        "liv=[\"where is my college\",'your college is in dgl']\n",
        "custom_train(bot,creater)\n",
        "custom_train(bot,food)\n",
        "custom_train(bot,liv)\n",
        "\n",
        "#train_bot\n",
        "train_all_data(bot)\n",
        "\n",
        "#start bot\n",
        "start_bot(bot)"
      ],
      "execution_count": null,
      "outputs": [
        {
          "output_type": "stream",
          "text": [
            "List Trainer: [####################] 100%\n",
            "List Trainer: [####################] 100%\n",
            "List Trainer: [####################] 100%\n",
            "Training ai.yml: [####################] 100%\n",
            "Training botprofile.yml: [####################] 100%\n",
            "Training computers.yml: [####################] 100%\n",
            "Training conversations.yml: [####################] 100%\n",
            "Training emotion.yml: [####################] 100%\n",
            "Training food.yml: [####################] 100%\n",
            "Training gossip.yml: [####################] 100%\n",
            "Training greetings.yml: [####################] 100%\n",
            "Training health.yml: [####################] 100%\n",
            "Training history.yml: [####################] 100%\n",
            "Training humor.yml: [####################] 100%\n",
            "Training literature.yml: [####################] 100%\n",
            "Training money.yml: [####################] 100%\n",
            "Training movies.yml: [####################] 100%\n",
            "Training politics.yml: [####################] 100%\n",
            "Training psychology.yml: [####################] 100%\n",
            "Training science.yml: [####################] 100%\n",
            "Training sports.yml: [####################] 100%\n",
            "Training trivia.yml: [####################] 100%\n",
            "Hi there!,i'm Ab.How can i help you?\n",
            "me: hi\n",
            "Ab:  How are you doing?\n",
            "me: im fine\n",
            "Ab:  you are crazy\n",
            "me: how about yu\n",
            "Ab:  I'm also good.\n",
            "me: have your lunch?\n",
            "Ab:  What are you then?\n",
            "me: im abdul\n",
            "Ab:  do you drink\n",
            "me: nope\n",
            "Ab:  Not noticeably.\n",
            "me: no\n",
            "Ab:  your fav food is briyani\n",
            "me: yes\n",
            "Ab:  It's hard to say, but The ENIAC is regarded as the first 'real' computer. It was developed at University of Pennsylvania in 1946.\n",
            "me: hi\n",
            "Ab:  How are you doing?\n"
          ],
          "name": "stdout"
        }
      ]
    }
  ]
}